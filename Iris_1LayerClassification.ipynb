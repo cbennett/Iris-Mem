{
 "cells": [
  {
   "cell_type": "code",
   "execution_count": 1,
   "metadata": {},
   "outputs": [],
   "source": [
    "import matplotlib.pyplot as plt\n",
    "from mpl_toolkits.mplot3d import Axes3D\n",
    "from sklearn import datasets\n",
    "from sklearn.model_selection import train_test_split\n",
    "import tensorflow as tf\n",
    "import numpy as np\n",
    "import random\n",
    "# import some data to play with\n",
    "iris = datasets.load_iris()"
   ]
  },
  {
   "cell_type": "code",
   "execution_count": 2,
   "metadata": {
    "scrolled": true
   },
   "outputs": [
    {
     "name": "stdout",
     "output_type": "stream",
     "text": [
      "WARNING:tensorflow:From <ipython-input-2-a419a03b49d3>:10 in <module>.: initialize_all_variables (from tensorflow.python.ops.variables) is deprecated and will be removed after 2017-03-02.\n",
      "Instructions for updating:\n",
      "Use `tf.global_variables_initializer` instead.\n"
     ]
    }
   ],
   "source": [
    "#Model Basic (Using some basic stuff from TF)\n",
    "x = tf.placeholder(tf.float32, [None, 4])\n",
    "W = tf.Variable(tf.zeros([4, 3]))\n",
    "b = tf.Variable(tf.zeros([3]))\n",
    "y = tf.nn.softmax(tf.matmul(x, W) + b)\n",
    "y_ = tf.placeholder(tf.float32, [None, 3])\n",
    "cross_entropy = tf.reduce_mean(-tf.reduce_sum(y_ * tf.log(y), reduction_indices=[1]))\n",
    "train_step = tf.train.GradientDescentOptimizer(0.5).minimize(cross_entropy)\n",
    "sess = tf.InteractiveSession()\n",
    "tf.initialize_all_variables().run()\n",
    "\n",
    "\n",
    "X_train, X_test, y_train, y_test = train_test_split(iris.data, iris.target, test_size=0.3, random_state=0)\n",
    "nbepochs = 2\n",
    "steps = len(X_train[:,1])\n",
    "for k in range(int(nbepochs)):\n",
    "    for it in range(steps):\n",
    "        yit = np.zeros([3])\n",
    "        ind = y_train[it-1]\n",
    "        yit[ind] = 1\n",
    "        yit_rs = np.reshape(yit,(1, 3))\n",
    "        xit = X_train[it-1,:]\n",
    "        xit_rs = np.reshape(xit,(1,4))\n",
    "        sess.run(train_step, feed_dict={x:xit_rs, y_:yit_rs})\n"
   ]
  },
  {
   "cell_type": "code",
   "execution_count": 3,
   "metadata": {},
   "outputs": [
    {
     "name": "stdout",
     "output_type": "stream",
     "text": [
      "0.933333\n"
     ]
    }
   ],
   "source": [
    "#Evaluate Model\n",
    "xte_rs = np.reshape(X_test,(len(X_test[:,1]),4))\n",
    "yte_new = np.zeros([len(y_test[:]),3])\n",
    "for it in range(len(X_test[:,1])):\n",
    "    yit = np.zeros([3])\n",
    "    ind = y_test[it-1]\n",
    "    yit[ind] =1\n",
    "    yte_new[it-1,:] += yit\n",
    "    \n",
    "    \n",
    "yte_rs = np.reshape(yte_new,(len(y_test[:]),3))\n",
    "correct_prediction = tf.equal(tf.argmax(y,1), tf.argmax(y_,1))\n",
    "accuracy = tf.reduce_mean(tf.cast(correct_prediction, tf.float32))\n",
    "print(sess.run(accuracy, feed_dict={x: xte_rs, y_: yte_rs}))"
   ]
  },
  {
   "cell_type": "code",
   "execution_count": null,
   "metadata": {
    "collapsed": true
   },
   "outputs": [],
   "source": []
  }
 ],
 "metadata": {
  "kernelspec": {
   "display_name": "Python 3",
   "language": "python",
   "name": "python3"
  },
  "language_info": {
   "codemirror_mode": {
    "name": "ipython",
    "version": 3
   },
   "file_extension": ".py",
   "mimetype": "text/x-python",
   "name": "python",
   "nbconvert_exporter": "python",
   "pygments_lexer": "ipython3",
   "version": "3.6.0"
  }
 },
 "nbformat": 4,
 "nbformat_minor": 1
}
