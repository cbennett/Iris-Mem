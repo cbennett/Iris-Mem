{
 "cells": [
  {
   "cell_type": "code",
   "execution_count": 43,
   "metadata": {
    "collapsed": false
   },
   "outputs": [],
   "source": [
    "import numpy as np\n",
    "import random\n",
    "import operator\n",
    "import matplotlib.pyplot as plt\n",
    "from __future__ import division\n",
    "from mpl_toolkits.mplot3d import Axes3D\n",
    "from sklearn import datasets\n",
    "from sklearn.model_selection import train_test_split\n",
    "from secondlayer import gdummynv\n",
    "from secondlayer import gdummyv\n",
    "# import some data to play with\n",
    "iris = datasets.load_iris()"
   ]
  },
  {
   "cell_type": "code",
   "execution_count": 44,
   "metadata": {
    "collapsed": false
   },
   "outputs": [],
   "source": [
    "# This is pre-processing to normalize the data in the [0..1] range for voltage prez\n",
    "min1 = min(iris.data[:,0])\n",
    "ra1 = (max(iris.data[:,0]) -min1)\n",
    "min2 = min(iris.data[:,1])\n",
    "ra2 = (max(iris.data[:,1]) -min2)\n",
    "min3 = min(iris.data[:,2])\n",
    "ra3 = (max(iris.data[:,2])-min3)\n",
    "min4 = min(iris.data[:,3])\n",
    "ra4 =  (max(iris.data[:,3])-min4)\n",
    "iris.data[:,0] = 2*((iris.data[:,0]-min1)/ra1)-1\n",
    "iris.data[:,1] = 2*((iris.data[:,1]-min2)/ra2)-1\n",
    "iris.data[:,2] = 2*((iris.data[:,2]-min3)/ra3)-1\n",
    "iris.data[:,3] = 2*((iris.data[:,3]-min4)/ra4)-1"
   ]
  },
  {
   "cell_type": "code",
   "execution_count": 45,
   "metadata": {
    "collapsed": false
   },
   "outputs": [],
   "source": [
    "X_train, X_test, y_train, y_test = train_test_split(iris.data, iris.target, test_size=0.3, random_state=0)"
   ]
  },
  {
   "cell_type": "code",
   "execution_count": 46,
   "metadata": {
    "collapsed": false
   },
   "outputs": [],
   "source": [
    "# Run Model on Train set\n",
    "nfts = 4 #number features\n",
    "ncls = 3 # number classes\n",
    "gmin = 1e-8\n",
    "gmax = 1e-6\n",
    "gf = 5e5\n",
    "G = np.random.uniform(gmin, gmax, size=(int(2*nfts+2), int(ncls)))\n",
    "g = 256 # writable levels\n",
    "nbepochs = 20 # how many total cycles we  present all tr\n",
    "steps = len(X_train[:,1]) \n",
    "#momentum = np.zeros(nbepochs)\n",
    "#for mm in range(nbepochs)\n",
    "results = np.zeros([nbepochs])  \n",
    "for k in range(int(nbepochs)):\n",
    "    for it in range(steps):\n",
    "        error = np.zeros([2*nfts+2,ncls])\n",
    "        xit = X_train[it,:]\n",
    "        yit = -1*np.ones([ncls])\n",
    "        targ = np.zeros([ncls])\n",
    "        ind = y_train[it]\n",
    "        yit[ind] = 1  \n",
    "        targ[ind] = 1\n",
    "        xitsym = np.zeros([2*nfts+2])\n",
    "        for l in range(nfts):\n",
    "            xitsym[int(2*l)] = xit[l]\n",
    "            xitsym[int(2*l+1)] = -xit[l]\n",
    "        xitsym[int(2*nfts)] = 1\n",
    "        xitsym[int(2*nfts)+1] = -1\n",
    "        currents = np.dot(xitsym,G)\n",
    "        outs = np.zeros([ncls])\n",
    "        #deltas = np.zeros([ncls])\n",
    "        for m in range(ncls):\n",
    "            outs[m] = np.tanh(gf*currents[m])\n",
    "            #deltas[m] = np.abs(yit[m] - outs[m])\n",
    "            if np.sign(outs[m]) != np.sign(yit[m]): # active error-case\n",
    "            #if ind == m: # trained neuron\n",
    "                if np.sign(outs[m]) == 1: #HL case > decr pair weights\n",
    "                    for n in range(nfts):\n",
    "                        if np.sign(xit[n]) == 1:\n",
    "                            error[2*n,m] = -1\n",
    "                            error[2*n+1,m] = 1\n",
    "                        else:\n",
    "                            error[2*n,m] = 1\n",
    "                            error[2*n+1,m] = -1\n",
    "                    error[2*nfts] = -1\n",
    "                    error[2*nfts+1] = 1\n",
    "                else: # LH case > incr pair weights\n",
    "                     for n in range(nfts):\n",
    "                        if np.sign(xit[n]) == 1:\n",
    "                            error[2*n,m] = 1\n",
    "                            error[2*n+1,m] = -1\n",
    "                        else:\n",
    "                            error[2*n,m] = -1\n",
    "                            error[2*n+1,m] = 1\n",
    "                    error[2*nfts] = 1\n",
    "                    error[2*nfts+1] = -1\n",
    "        G = gdummynv(G,gmax,gmin,g,nfts,ncls,error)\n",
    "        #G = gdummynvana(G,gmax,gmin,g,nfts,ncls,error,deltas)\n",
    "    \n",
    "    \n",
    "    #Evaluate Model on Test Set after the epoch\n",
    "    correct = 0\n",
    "    conf_arr = np.zeros((ncls,ncls)) # row is label, col is act\n",
    "    nbtests = len(X_test[:,1])\n",
    "    for it in range(nbtests):\n",
    "        yit = -1*np.ones([3])\n",
    "        ind = y_test[it]\n",
    "        yit[ind] =1\n",
    "        xitsym = np.zeros([2*nfts+2])\n",
    "        xit = X_test[it,:]\n",
    "        for l in range(nfts):\n",
    "            xitsym[int(2*l)] = xit[l]\n",
    "            xitsym[int(2*l+1)] = -xit[l]\n",
    "        xitsym[int(2*nfts)] = 1\n",
    "        xitsym[int(2*nfts)+1] = -1\n",
    "        currents = np.dot(xitsym,G)\n",
    "        outs = np.zeros([ncls])\n",
    "        for m in range(ncls):\n",
    "            outs[m] = np.tanh(gf*currents[m])\n",
    "        max_index, max_value = max(enumerate(outs), key=operator.itemgetter(1))\n",
    "        conf_arr[ind][max_index] += 1\n",
    "        if max_index == ind:\n",
    "            correct += 1\n",
    "            \n",
    "    results[k] = (correct/nbtests)*100\n",
    "    \n",
    "        \n",
    "                    "
   ]
  },
  {
   "cell_type": "code",
   "execution_count": 47,
   "metadata": {
    "collapsed": false,
    "scrolled": true
   },
   "outputs": [
    {
     "data": {
      "image/png": "[encoded data removed]",
      "text/plain": [
       "<matplotlib.figure.Figure at 0x7f64beb4cb90>"
      ]
     },
     "metadata": {},
     "output_type": "display_data"
    }
   ],
   "source": [
    "xs = np.zeros(nbepochs)\n",
    "for x in range(len(results)):\n",
    "    xs[x] = x\n",
    "    \n",
    "plt.plot(xs,results)\n",
    "plt.show()"
   ]
  },
  {
   "cell_type": "code",
   "execution_count": 48,
   "metadata": {
    "collapsed": false
   },
   "outputs": [
    {
     "data": {
      "image/png": "[encoded data removed]",
      "text/plain": [
       "<matplotlib.figure.Figure at 0x7f64beb9ce50>"
      ]
     },
     "metadata": {},
     "output_type": "display_data"
    }
   ],
   "source": [
    "plt.imshow(conf_arr, cmap=plt.cm.jet, interpolation='nearest',aspect='auto')\n",
    "plt.colorbar()\n",
    "plt.show()"
   ]
  },
  {
   "cell_type": "code",
   "execution_count": 49,
   "metadata": {
    "collapsed": false
   },
   "outputs": [
    {
     "data": {
      "image/png": "[encoded data removed]",
      "text/plain": [
       "<matplotlib.figure.Figure at 0x7f64beb41a50>"
      ]
     },
     "metadata": {},
     "output_type": "display_data"
    }
   ],
   "source": [
    "plt.hist(G)\n",
    "plt.show()"
   ]
  },
  {
   "cell_type": "code",
   "execution_count": 50,
   "metadata": {
    "collapsed": false
   },
   "outputs": [
    {
     "data": {
      "image/png": "[encoded data removed]",
      "text/plain": [
       "<matplotlib.figure.Figure at 0x7f64bec1ac10>"
      ]
     },
     "metadata": {},
     "output_type": "display_data"
    }
   ],
   "source": [
    "Gflat = np.ndarray.flatten(G)\n",
    "plt.hist(Gflat)\n",
    "plt.show()"
   ]
  },
  {
   "cell_type": "code",
   "execution_count": 51,
   "metadata": {
    "collapsed": false
   },
   "outputs": [
    {
     "data": {
      "image/png": "[encoded data removed]",
      "text/plain": [
       "<matplotlib.figure.Figure at 0x7f64beac6d50>"
      ]
     },
     "metadata": {},
     "output_type": "display_data"
    }
   ],
   "source": [
    "plt.imshow(G)\n",
    "plt.colorbar()\n",
    "plt.show()"
   ]
  },
  {
   "cell_type": "code",
   "execution_count": 52,
   "metadata": {
    "collapsed": false
   },
   "outputs": [
    {
     "data": {
      "text/plain": [
       "array([ 0.16186446,  1.81909404,  1.8545044 ])"
      ]
     },
     "execution_count": 52,
     "metadata": {},
     "output_type": "execute_result"
    }
   ],
   "source": [
    "deltas"
   ]
  },
  {
   "cell_type": "code",
   "execution_count": 53,
   "metadata": {
    "collapsed": false
   },
   "outputs": [
    {
     "data": {
      "text/plain": [
       "0.16186445645403047"
      ]
     },
     "execution_count": 53,
     "metadata": {},
     "output_type": "execute_result"
    }
   ],
   "source": [
    "deltas[0]"
   ]
  },
  {
   "cell_type": "code",
   "execution_count": 54,
   "metadata": {
    "collapsed": false
   },
   "outputs": [
    {
     "data": {
      "text/plain": [
       "array([ 0.64800055,  0.61132144,  0.68850969])"
      ]
     },
     "execution_count": 54,
     "metadata": {},
     "output_type": "execute_result"
    }
   ],
   "source": [
    "outs"
   ]
  },
  {
   "cell_type": "code",
   "execution_count": 55,
   "metadata": {
    "collapsed": false
   },
   "outputs": [
    {
     "data": {
      "text/plain": [
       "11"
      ]
     },
     "execution_count": 55,
     "metadata": {},
     "output_type": "execute_result"
    }
   ],
   "source": [
    "correct\n"
   ]
  },
  {
   "cell_type": "code",
   "execution_count": 56,
   "metadata": {
    "collapsed": false
   },
   "outputs": [
    {
     "data": {
      "text/plain": [
       "45"
      ]
     },
     "execution_count": 56,
     "metadata": {},
     "output_type": "execute_result"
    }
   ],
   "source": [
    "nbtests"
   ]
  },
  {
   "cell_type": "code",
   "execution_count": null,
   "metadata": {
    "collapsed": true
   },
   "outputs": [],
   "source": []
  }
 ],
 "metadata": {
  "kernelspec": {
   "display_name": "Python 2",
   "language": "python",
   "name": "python2"
  },
  "language_info": {
   "codemirror_mode": {
    "name": "ipython",
    "version": 2
   },
   "file_extension": ".py",
   "mimetype": "text/x-python",
   "name": "python",
   "nbconvert_exporter": "python",
   "pygments_lexer": "ipython2",
   "version": "2.7.12"
  }
 },
 "nbformat": 4,
 "nbformat_minor": 0
}
