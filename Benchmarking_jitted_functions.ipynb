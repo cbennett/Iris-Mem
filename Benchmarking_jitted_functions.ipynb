{
 "cells": [
  {
   "cell_type": "code",
   "execution_count": 1,
   "metadata": {},
   "outputs": [
    {
     "name": "stdout",
     "output_type": "stream",
     "text": [
      "Performing some poor man's (not so unit) testing.\n",
      "\n",
      "Testing 'gdummyv' implementations: \tOK!\n",
      "Testing 'gdummynv' implementations: \tOK!\n",
      "Testing 'gdummynvana' implementations: \tOK!\n",
      "Testing 'compute_error_v' implementations: \tOK!\n",
      "Testing 'compute_currents' implementations: \tOK!\n",
      "\n",
      "If you are reading this, then everything seems to have run nicely :).\n"
     ]
    }
   ],
   "source": [
    "\"\"\"Before starting, check that vanilla and JIT-compiled functions give the same results...\n",
    "The proper test code is already part of the library file, so just run it.\n",
    "\"\"\"\n",
    "%run secondlayer.py"
   ]
  },
  {
   "cell_type": "markdown",
   "metadata": {},
   "source": [
    "## Benchmarking `gdummy*`-functions "
   ]
  },
  {
   "cell_type": "code",
   "execution_count": 2,
   "metadata": {
    "collapsed": true
   },
   "outputs": [],
   "source": [
    "import numpy as np\n",
    "from secondlayer import (_gdummyv_vanilla, _gdummyv_numpy, _gdummyv_jit,\n",
    "                         _gdummynv_vanilla, _gdummynv_numpy, _gdummynv_jit,\n",
    "                         _gdummynvana_vanilla, _gdummynvana_numpy, _gdummynvana_jit)\n",
    "\n",
    "# ##################\n",
    "# Helper function(s)\n",
    "def get_dummy_data(seed=None):\n",
    "    _prng = np.random.RandomState(seed)  # for reproducibility\n",
    "    m = 4*10  # number of features\n",
    "    n = 3*10  # number classes\n",
    "    gmin, gmax = 1e-8, 1e-6\n",
    "    g = 256  # number of writable levels\n",
    "    G = _prng.uniform(low=gmin, high=gmax, size=(2*m + 2, n))\n",
    "    error = _prng.random_sample(size=G.shape)\n",
    "    deltas = np.zeros(n)\n",
    "    gmins = _prng.normal(loc=gmin, scale=0.2 * gmin, size=G.shape)\n",
    "    gmaxs = _prng.normal(loc=gmax, scale=0.2 * gmax, size=G.shape)\n",
    "    memarray = np.dstack((gmaxs, gmins))\n",
    "\n",
    "    return G, gmax, gmin, g, m, n, error, deltas, memarray\n",
    "\n",
    "\n",
    "# Run the JIT version(s) once to compile it (them)\n",
    "\n",
    "G0, _, _, g, m, n, error, _, memarray = get_dummy_data()\n",
    "G0 = _gdummyv_jit(G0, g, m, n, error, memarray)\n",
    "\n",
    "G1, gmax, gmin, g, m, n, error, _, _ = get_dummy_data()\n",
    "G1 = _gdummynv_jit(G1, gmax, gmin, g, m, n, error)\n",
    "              \n",
    "G2, gmax, gmin, g, m, n, error, deltas, _ = get_dummy_data()\n",
    "G2 = _gdummynvana_jit(G2, gmax, gmin, g, m, n, error, deltas)"
   ]
  },
  {
   "cell_type": "code",
   "execution_count": 3,
   "metadata": {},
   "outputs": [
    {
     "name": "stdout",
     "output_type": "stream",
     "text": [
      "### Benchmarking `gdummyv` implementations ###\n",
      "Vanilla:\t10 loops, best of 3: 22.1 ms per loop\n",
      "Numpy-only:\t10000 loops, best of 3: 103 µs per loop\n",
      "JIT-compiled:\t10000 loops, best of 3: 22 µs per loop\n"
     ]
    }
   ],
   "source": [
    "print(\"### Benchmarking `gdummyv` implementations ###\")\n",
    "seed = np.random.randint(2134)\n",
    "\n",
    "for func, case in ((_gdummyv_vanilla, \"Vanilla:\"),\n",
    "                   (_gdummyv_numpy, \"Numpy-only:\"),\n",
    "                   (_gdummyv_jit, \"JIT-compiled:\")):\n",
    "    G0, _, _, g, m, n, error, _, memarray = get_dummy_data(seed)\n",
    "    print(case, end=\"\\t\")\n",
    "    %timeit func(G0, g, m, n, error, memarray)"
   ]
  },
  {
   "cell_type": "code",
   "execution_count": 4,
   "metadata": {},
   "outputs": [
    {
     "name": "stdout",
     "output_type": "stream",
     "text": [
      "### Benchmarking `gdummynv` implementations ###\n",
      "Vanilla:\t100 loops, best of 3: 9.19 ms per loop\n",
      "Numpy-only:\tThe slowest run took 5.34 times longer than the fastest. This could mean that an intermediate result is being cached.\n",
      "10000 loops, best of 3: 54.7 µs per loop\n",
      "JIT-compiled:\t100000 loops, best of 3: 10.5 µs per loop\n"
     ]
    }
   ],
   "source": [
    "print(\"### Benchmarking `gdummynv` implementations ###\")\n",
    "seed = np.random.randint(3241)\n",
    "\n",
    "for func, case in ((_gdummynv_vanilla, \"Vanilla:\"),\n",
    "                   (_gdummynv_numpy, \"Numpy-only:\"),\n",
    "                   (_gdummynv_jit, \"JIT-compiled:\")):\n",
    "    G1, gmax, gmin, g, m, n, error, _, _ = get_dummy_data(seed)\n",
    "    print(case, end=\"\\t\")\n",
    "    %timeit func(G1, gmax, gmin, g, m, n, error)"
   ]
  },
  {
   "cell_type": "code",
   "execution_count": 5,
   "metadata": {},
   "outputs": [
    {
     "name": "stdout",
     "output_type": "stream",
     "text": [
      "### Benchmarking `gdummynvana` implementations ###\n",
      "Vanilla:\t100 loops, best of 3: 10.8 ms per loop\n",
      "Numpy-only:\t10000 loops, best of 3: 92 µs per loop\n",
      "JIT-compiled:\t100 loops, best of 3: 4.16 ms per loop\n"
     ]
    }
   ],
   "source": [
    "print(\"### Benchmarking `gdummynvana` implementations ###\")\n",
    "seed = np.random.randint(4231)\n",
    "\n",
    "for func, case in ((_gdummynvana_vanilla, \"Vanilla:\"),\n",
    "                   (_gdummynvana_numpy, \"Numpy-only:\"),\n",
    "                   (_gdummynvana_jit, \"JIT-compiled:\")):\n",
    "    G2, gmax, gmin, g, m, n, error, deltas, _ = get_dummy_data(seed)\n",
    "    print(case, end=\"\\t\")\n",
    "    %timeit func(G2, gmax, gmin, g, m, n, error, deltas)\n",
    "\n",
    "# Remark: why is the JIT-compiled version so slow in this case?!"
   ]
  },
  {
   "cell_type": "markdown",
   "metadata": {
    "collapsed": true
   },
   "source": [
    "## Benchmarking `compute_error_*`-functions "
   ]
  },
  {
   "cell_type": "code",
   "execution_count": 6,
   "metadata": {
    "collapsed": true
   },
   "outputs": [],
   "source": [
    "import numpy as np\n",
    "from secondlayer import (_compute_error_v_vanilla,\n",
    "                         _compute_error_v_numpy,\n",
    "                         _compute_error_v_jit)\n",
    "\n",
    "# ##################\n",
    "# Helper function(s)\n",
    "    \n",
    "def get_error_data(seed=None):\n",
    "    \"\"\"Return dummy arguments for 'compute_error_v*'-type functions. \"\"\"\n",
    "    _prng = np.random.RandomState(seed)  # for reproducibility\n",
    "    nfts, ncls = 4*100, 3*100  # NB: bigger than in the iris case\n",
    "    xit = _prng.uniform(low=-1, high=1, size=nfts)\n",
    "    yit = np.zeros(ncls) - 1\n",
    "    yit[-1] = 1\n",
    "    outs = np.copy(yit)\n",
    "    outs += np.random.uniform(low=-0.2, high=0.2, size=len(outs))\n",
    "    outs[0] *= np.sign(outs[0]*yit[0])  # ensure correct answer\n",
    "    outs[1] *= -np.sign(outs[1]*yit[1])  # ensure wrong answer\n",
    "\n",
    "    return xit, yit, outs\n",
    "\n",
    "\n",
    "# Run the JIT version(s) once to compile it (them)\n",
    "\n",
    "xit, yit, outs = get_error_data()\n",
    "error = _compute_error_v_jit(xit, yit, outs)"
   ]
  },
  {
   "cell_type": "code",
   "execution_count": 7,
   "metadata": {},
   "outputs": [
    {
     "name": "stdout",
     "output_type": "stream",
     "text": [
      "### Benchmarking `compute_error_v` implementations ###\n",
      "Vanilla:\t100 loops, best of 3: 2.89 ms per loop\n",
      "Numpy-only:\t1000 loops, best of 3: 473 µs per loop\n",
      "JIT-compiled:\t1000 loops, best of 3: 215 µs per loop\n"
     ]
    }
   ],
   "source": [
    "print(\"### Benchmarking `compute_error_v` implementations ###\")\n",
    "seed = np.random.randint(3124)\n",
    "\n",
    "for func, case in ((_compute_error_v_vanilla, \"Vanilla:\"),\n",
    "                   (_compute_error_v_numpy, \"Numpy-only:\"),\n",
    "                   (_compute_error_v_jit, \"JIT-compiled:\")):\n",
    "    my_args = get_error_data(seed)\n",
    "    print(case, end=\"\\t\")\n",
    "    %timeit func(*my_args)"
   ]
  },
  {
   "cell_type": "markdown",
   "metadata": {
    "collapsed": true
   },
   "source": [
    "## Benchmarking `compute_currents_*`-functions "
   ]
  },
  {
   "cell_type": "code",
   "execution_count": 8,
   "metadata": {},
   "outputs": [],
   "source": [
    "import numpy as np\n",
    "from secondlayer import (_compute_currents_vanilla,\n",
    "                         _compute_currents_numpy,\n",
    "                         _compute_currents_jit)\n",
    "\n",
    "# ##################\n",
    "# Helper function(s)\n",
    "\n",
    "def get_current_data(seed=None):\n",
    "    \"\"\"Return dummy arguments for 'compute_currents*'-type functions. \"\"\"\n",
    "    _prng = np.random.RandomState(seed)  # for reproducibility\n",
    "    nfts, ncls = 4*10, 3*10  # NB: bigger than in the iris case\n",
    "    xit = _prng.uniform(low=-1, high=1, size=nfts)\n",
    "    gmin, gmax = 1e-8, 1e-6\n",
    "    G = _prng.uniform(low=gmin, high=gmax, size=(2*nfts + 2, ncls))\n",
    "\n",
    "    return xit, G\n",
    "\n",
    "# Run the JIT version(s) once to compile it (them)\n",
    "\n",
    "xit, G = get_current_data()\n",
    "currents = _compute_currents_jit(xit, G)"
   ]
  },
  {
   "cell_type": "code",
   "execution_count": 9,
   "metadata": {},
   "outputs": [
    {
     "name": "stdout",
     "output_type": "stream",
     "text": [
      "### Benchmarking `compute_error_v` implementations ###\n",
      "Vanilla:\tThe slowest run took 5.63 times longer than the fastest. This could mean that an intermediate result is being cached.\n",
      "10000 loops, best of 3: 43.1 µs per loop\n",
      "Numpy-only:\tThe slowest run took 13.38 times longer than the fastest. This could mean that an intermediate result is being cached.\n",
      "100000 loops, best of 3: 17 µs per loop\n",
      "JIT-compiled:\tThe slowest run took 4.91 times longer than the fastest. This could mean that an intermediate result is being cached.\n",
      "100000 loops, best of 3: 6.57 µs per loop\n"
     ]
    }
   ],
   "source": [
    "print(\"### Benchmarking `compute_error_v` implementations ###\")\n",
    "seed = np.random.randint(2233)\n",
    "\n",
    "for func, case in ((_compute_currents_vanilla, \"Vanilla:\"),\n",
    "                   (_compute_currents_numpy, \"Numpy-only:\"),\n",
    "                   (_compute_currents_jit, \"JIT-compiled:\")):\n",
    "    my_args = get_current_data(seed)\n",
    "    print(case, end=\"\\t\")\n",
    "    %timeit func(*my_args)"
   ]
  },
  {
   "cell_type": "code",
   "execution_count": null,
   "metadata": {
    "collapsed": true
   },
   "outputs": [],
   "source": []
  }
 ],
 "metadata": {
  "kernelspec": {
   "display_name": "Python 3",
   "language": "python",
   "name": "python3"
  },
  "language_info": {
   "codemirror_mode": {
    "name": "ipython",
    "version": 3
   },
   "file_extension": ".py",
   "mimetype": "text/x-python",
   "name": "python",
   "nbconvert_exporter": "python",
   "pygments_lexer": "ipython3",
   "version": "3.6.0"
  }
 },
 "nbformat": 4,
 "nbformat_minor": 2
}
