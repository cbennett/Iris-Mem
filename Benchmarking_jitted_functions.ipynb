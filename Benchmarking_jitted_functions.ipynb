{
 "cells": [
  {
   "cell_type": "code",
   "execution_count": 1,
   "metadata": {},
   "outputs": [
    {
     "name": "stdout",
     "output_type": "stream",
     "text": [
      "Performing some poor man's (not so unit) testing.\n",
      "\n",
      "Testing 'gdummyv' implementations: \tOK!\n",
      "Testing 'gdummynv' implementations: \tOK!\n",
      "Testing 'gdummynvana' implementations: \tOK!\n",
      "\n",
      "If you are reading this, then everything seems to have run nicely :).\n"
     ]
    }
   ],
   "source": [
    "\"\"\"Before starting, check that vanilla and JIT-compiled functions give the same results...\n",
    "The proper test code is already part of the library file, so just run it.\n",
    "\"\"\"\n",
    "%run secondlayer.py"
   ]
  },
  {
   "cell_type": "code",
   "execution_count": 2,
   "metadata": {},
   "outputs": [],
   "source": [
    "import numpy as np\n",
    "from secondlayer import (_gdummyv_vanilla, _gdummyv_numpy, _gdummyv_jit,\n",
    "                         _gdummynv_vanilla, _gdummynv_numpy, _gdummynv_jit,\n",
    "                         _gdummynvana_vanilla, _gdummynvana_numpy, _gdummynvana_jit)\n",
    "\n",
    "# ##################\n",
    "# Helper function(s)\n",
    "def get_dummy_data(seed=None):\n",
    "    _prng = np.random.RandomState(seed)  # for reproducibility\n",
    "    m = 4*10  # number of features\n",
    "    n = 3*10  # number classes\n",
    "    gmin, gmax = 1e-8, 1e-6\n",
    "    g = 256  # number of writable levels\n",
    "    G = _prng.uniform(low=gmin, high=gmax, size=(2*m + 2, n))\n",
    "    error = _prng.random_sample(size=G.shape)\n",
    "    deltas = np.zeros(n)\n",
    "    gmins = _prng.normal(loc=gmin, scale=0.2 * gmin, size=G.shape)\n",
    "    gmaxs = _prng.normal(loc=gmax, scale=0.2 * gmax, size=G.shape)\n",
    "    memarray = np.dstack((gmaxs, gmins))\n",
    "\n",
    "    return G, gmax, gmin, g, m, n, error, deltas, memarray\n"
   ]
  },
  {
   "cell_type": "code",
   "execution_count": 3,
   "metadata": {},
   "outputs": [],
   "source": [
    "# Run the JIT versions once to compile them\n",
    "\n",
    "G0, _, _, g, m, n, error, _, memarray = get_dummy_data()\n",
    "G0 = _gdummyv_jit(G0, g, m, n, error, memarray)\n",
    "\n",
    "G1, gmax, gmin, g, m, n, error, _, _ = get_dummy_data()\n",
    "G1 = _gdummynv_jit(G1, gmax, gmin, g, m, n, error)\n",
    "              \n",
    "G2, gmax, gmin, g, m, n, error, deltas, _ = get_dummy_data()\n",
    "G2 = _gdummynvana_jit(G2, gmax, gmin, g, m, n, error, deltas)"
   ]
  },
  {
   "cell_type": "code",
   "execution_count": 4,
   "metadata": {},
   "outputs": [
    {
     "name": "stdout",
     "output_type": "stream",
     "text": [
      "### Benchmarking `gdummyv` implementations ###\n",
      "Vanilla:\t10 loops, best of 3: 19.2 ms per loop\n",
      "Numpy-only:\t10000 loops, best of 3: 103 µs per loop\n",
      "JIT-compiled:\t10000 loops, best of 3: 21.4 µs per loop\n"
     ]
    }
   ],
   "source": [
    "print(\"### Benchmarking `gdummyv` implementations ###\")\n",
    "seed = np.random.randint(2134)\n",
    "\n",
    "for func, case in ((_gdummyv_vanilla, \"Vanilla:\"),\n",
    "                   (_gdummyv_numpy, \"Numpy-only:\"),\n",
    "                   (_gdummyv_jit, \"JIT-compiled:\")):\n",
    "    G0, _, _, g, m, n, error, _, memarray = get_dummy_data(seed)\n",
    "    print(case, end=\"\\t\")\n",
    "    %timeit func(G0, g, m, n, error, memarray)"
   ]
  },
  {
   "cell_type": "code",
   "execution_count": 5,
   "metadata": {},
   "outputs": [
    {
     "name": "stdout",
     "output_type": "stream",
     "text": [
      "### Benchmarking `gdummynv` implementations ###\n",
      "Vanilla:\t100 loops, best of 3: 8.1 ms per loop\n",
      "Numpy-only:\t10000 loops, best of 3: 53.6 µs per loop\n",
      "JIT-compiled:\t100000 loops, best of 3: 10.3 µs per loop\n"
     ]
    }
   ],
   "source": [
    "print(\"### Benchmarking `gdummynv` implementations ###\")\n",
    "seed = np.random.randint(3241)\n",
    "\n",
    "for func, case in ((_gdummynv_vanilla, \"Vanilla:\"),\n",
    "                   (_gdummynv_numpy, \"Numpy-only:\"),\n",
    "                   (_gdummynv_jit, \"JIT-compiled:\")):\n",
    "    G1, gmax, gmin, g, m, n, error, _, _ = get_dummy_data(seed)\n",
    "    print(case, end=\"\\t\")\n",
    "    %timeit func(G1, gmax, gmin, g, m, n, error)"
   ]
  },
  {
   "cell_type": "code",
   "execution_count": 6,
   "metadata": {},
   "outputs": [
    {
     "name": "stdout",
     "output_type": "stream",
     "text": [
      "### Benchmarking `gdummynvana` implementations ###\n",
      "Vanilla:\t100 loops, best of 3: 9.36 ms per loop\n",
      "Numpy-only:\tThe slowest run took 4.14 times longer than the fastest. This could mean that an intermediate result is being cached.\n",
      "10000 loops, best of 3: 87.6 µs per loop\n",
      "JIT-compiled:\t100 loops, best of 3: 3.91 ms per loop\n"
     ]
    }
   ],
   "source": [
    "print(\"### Benchmarking `gdummynvana` implementations ###\")\n",
    "seed = np.random.randint(4231)\n",
    "\n",
    "for func, case in ((_gdummynvana_vanilla, \"Vanilla:\"),\n",
    "                   (_gdummynvana_numpy, \"Numpy-only:\"),\n",
    "                   (_gdummynvana_jit, \"JIT-compiled:\")):\n",
    "    G2, gmax, gmin, g, m, n, error, deltas, _ = get_dummy_data(seed)\n",
    "    print(case, end=\"\\t\")\n",
    "    %timeit func(G2, gmax, gmin, g, m, n, error, deltas)\n",
    "\n",
    "# Remark: why is the JIT-compiled version so slow in this case?!"
   ]
  },
  {
   "cell_type": "code",
   "execution_count": null,
   "metadata": {
    "collapsed": true
   },
   "outputs": [],
   "source": []
  }
 ],
 "metadata": {
  "kernelspec": {
   "display_name": "Python 3",
   "language": "python",
   "name": "python3"
  },
  "language_info": {
   "codemirror_mode": {
    "name": "ipython",
    "version": 3
   },
   "file_extension": ".py",
   "mimetype": "text/x-python",
   "name": "python",
   "nbconvert_exporter": "python",
   "pygments_lexer": "ipython3",
   "version": "3.6.0"
  }
 },
 "nbformat": 4,
 "nbformat_minor": 2
}
