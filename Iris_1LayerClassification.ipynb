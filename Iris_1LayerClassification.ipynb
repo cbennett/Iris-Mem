{
 "cells": [
  {
   "cell_type": "code",
   "execution_count": 69,
   "metadata": {
    "collapsed": true
   },
   "outputs": [],
   "source": [
    "from __future__ import (division, print_function, unicode_literals,\n",
    "                        absolute_import)  # for Python 2.7\n",
    "\n",
    "import matplotlib.pyplot as plt\n",
    "from mpl_toolkits.mplot3d import Axes3D\n",
    "from sklearn import datasets\n",
    "from sklearn.model_selection import train_test_split\n",
    "import tensorflow as tf\n",
    "import numpy as np\n",
    "import random\n",
    "# import some data to play with\n",
    "iris = datasets.load_iris()"
   ]
  },
  {
   "cell_type": "code",
   "execution_count": 70,
   "metadata": {
    "collapsed": false
   },
   "outputs": [],
   "source": [
    "#Model Basic (Using some basic stuff from TF)\n",
    "x = tf.placeholder(tf.float32, [None, 4])\n",
    "W = tf.Variable(tf.zeros([4, 3]))\n",
    "b = tf.Variable(tf.zeros([3]))\n",
    "y = tf.nn.softmax(tf.matmul(x, W) + b)\n",
    "y_ = tf.placeholder(tf.float32, [None, 3])\n",
    "cross_entropy = tf.reduce_mean(-tf.reduce_sum(y_ * tf.log(y), reduction_indices=[1]))\n",
    "train_step = tf.train.GradientDescentOptimizer(0.05).minimize(cross_entropy)\n",
    "sess = tf.InteractiveSession()\n",
    "tf.global_variables_initializer().run()\n",
    "\n",
    "\n",
    "X_train, X_test, y_train, y_test = train_test_split(iris.data, iris.target, test_size=0.3, random_state=0)\n",
    "nbepochs = 30\n",
    "steps = len(X_train[:,1])\n",
    "teststeps = len(X_test[:,1])\n",
    "results = np.zeros(nbepochs)\n",
    "for k in range(int(nbepochs)):\n",
    "    for it in range(steps):\n",
    "        yit = np.zeros([3])\n",
    "        ind = y_train[it-1]\n",
    "        yit[ind] = 1\n",
    "        yit_rs = np.reshape(yit,(1, 3))\n",
    "        xit = X_train[it-1,:]\n",
    "        xit_rs = np.reshape(xit,(1,4))\n",
    "        sess.run(train_step, feed_dict={x:xit_rs, y_:yit_rs})\n",
    "        \n",
    "    #Evaluate Model    \n",
    "    xte_rs = np.reshape(X_test,(len(X_test[:,1]),4))\n",
    "    yte_new = np.zeros([len(y_test[:]),3])\n",
    "    for it in range(len(X_test[:,1])):\n",
    "        yit = np.zeros([3])\n",
    "        ind = y_test[it-1]\n",
    "        yit[ind] =1\n",
    "        yte_new[it-1,:] += yit\n",
    "    \n",
    "    \n",
    "    yte_rs = np.reshape(yte_new,(len(y_test[:]),3))\n",
    "    correct_prediction = tf.equal(tf.argmax(y,1), tf.argmax(y_,1))\n",
    "    accuracy = tf.reduce_mean(tf.cast(correct_prediction, tf.float32))\n",
    "    val = sess.run(accuracy, feed_dict={x: xte_rs, y_: yte_rs})\n",
    "    results[k] = val*100\n",
    "    \n",
    "        "
   ]
  },
  {
   "cell_type": "code",
   "execution_count": 71,
   "metadata": {
    "collapsed": false
   },
   "outputs": [
    {
     "data": {
      "image/png": "[encoded data removed]",
      "text/plain": [
       "<matplotlib.figure.Figure at 0x7fa57a212160>"
      ]
     },
     "metadata": {},
     "output_type": "display_data"
    }
   ],
   "source": [
    "fig0, ax0 = plt.subplots(num=\"results\", figsize=(4.5, 3.5))\n",
    "fig, ax = fig0, ax0  # Copy-pasting is easier if one always use \"ax.\" to call the methods ;).\n",
    "\n",
    "ax.plot(range(len(results)), results)  # Actually \"range(len(results))\" is useless\n",
    "\n",
    "# Cosmeticks\n",
    "ax.set_title(\"Performance: Software ANN\")\n",
    "ax.set_xlabel(\"Epoch #\")\n",
    "ax.set_ylabel(\"Score [%]\")\n",
    "#ax.set_ylim(0, 1)\n",
    "ax.minorticks_on()\n",
    "ax.grid(ls='dashed', lw=0.5)\n",
    "fig.tight_layout()\n",
    "\n",
    "#plt.savefig('performance-offchip.png',format = 'png',dpi = 300)\n",
    "plt.show()"
   ]
  }
 ],
 "metadata": {
  "kernelspec": {
   "display_name": "Python 3",
   "language": "python",
   "name": "python3"
  },
  "language_info": {
   "codemirror_mode": {
    "name": "ipython",
    "version": 3
   },
   "file_extension": ".py",
   "mimetype": "text/x-python",
   "name": "python",
   "nbconvert_exporter": "python",
   "pygments_lexer": "ipython3",
   "version": "3.6.0"
  }
 },
 "nbformat": 4,
 "nbformat_minor": 1
}
