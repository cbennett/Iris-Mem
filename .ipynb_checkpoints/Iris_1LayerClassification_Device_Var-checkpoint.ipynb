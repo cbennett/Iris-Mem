{
 "cells": [
  {
   "cell_type": "code",
   "execution_count": 5,
   "metadata": {
    "collapsed": false
   },
   "outputs": [],
   "source": [
    "import numpy as np\n",
    "import random\n",
    "import operator\n",
    "import matplotlib.pyplot as plt\n",
    "from __future__ import division\n",
    "from mpl_toolkits.mplot3d import Axes3D\n",
    "from sklearn import datasets\n",
    "from sklearn.model_selection import train_test_split\n",
    "from secondlayer import gdummynv\n",
    "from secondlayer import gdummyv\n",
    "iris = datasets.load_iris()"
   ]
  },
  {
   "cell_type": "code",
   "execution_count": 6,
   "metadata": {
    "collapsed": false
   },
   "outputs": [],
   "source": [
    "# This is pre-processing to normalize the data in the [0..1] range for voltage prez\n",
    "min1 = min(iris.data[:,0])\n",
    "ra1 = (max(iris.data[:,0]) -min1)\n",
    "min2 = min(iris.data[:,1])\n",
    "ra2 = (max(iris.data[:,1]) -min2)\n",
    "min3 = min(iris.data[:,2])\n",
    "ra3 = (max(iris.data[:,2])-min3)\n",
    "min4 = min(iris.data[:,3])\n",
    "ra4 =  (max(iris.data[:,3])-min4)\n",
    "iris.data[:,0] = 2*((iris.data[:,0]-min1)/ra1)-1\n",
    "iris.data[:,1] = 2*((iris.data[:,1]-min2)/ra2)-1\n",
    "iris.data[:,2] = 2*((iris.data[:,2]-min3)/ra3)-1\n",
    "iris.data[:,3] = 2*((iris.data[:,3]-min4)/ra4)-1"
   ]
  },
  {
   "cell_type": "code",
   "execution_count": 8,
   "metadata": {
    "collapsed": false
   },
   "outputs": [],
   "source": [
    "#split test and train\n",
    "X_train, X_test, y_train, y_test = train_test_split(iris.data, iris.target, test_size=0.3, random_state=0)\n",
    "# set up mem-array\n",
    "mu_gmin,s_gmin = 1e-8, 5e-8\n",
    "mu_gmax,s_gmax = 1e-6, 5e-7\n",
    "gmins = np.random.normal(mu_gmin,s_gmin,((int(2*nfts+2),int(ncls))))\n",
    "gmaxs = np.random.normal(mu_gmax,s_gmax,((int(2*nfts+2),int(ncls))))\n",
    "memarray = np.dstack((gmaxs,gmins))\n",
    "# Run Model on Train set\n",
    "nfts = 4 #number features\n",
    "ncls = 3 # number classes\n",
    "gf = 5e5\n",
    "G = np.random.uniform(mu_gmin, mu_gmax, size=(int(2*nfts+2), int(ncls)))\n",
    "g = 256 # writable levels\n",
    "nbepochs = 20 # how many total cycles we  present all tr\n",
    "steps = len(X_train[:,1]) \n",
    "results = np.zeros([nbepochs])  \n",
    "for k in range(int(nbepochs)):\n",
    "    for it in range(steps):\n",
    "        error = np.zeros([2*nfts+2,ncls])\n",
    "        xit = X_train[it,:]\n",
    "        yit = -1*np.ones([ncls])\n",
    "        targ = np.zeros([ncls])\n",
    "        ind = y_train[it]\n",
    "        yit[ind] = 1  \n",
    "        targ[ind] = 1\n",
    "        xitsym = np.zeros([2*nfts+2])\n",
    "        for l in range(nfts):\n",
    "            xitsym[int(2*l)] = xit[l]\n",
    "            xitsym[int(2*l+1)] = -xit[l]\n",
    "        xitsym[int(2*nfts)] = 1\n",
    "        xitsym[int(2*nfts)+1] = -1\n",
    "        currents = np.dot(xitsym,G)\n",
    "        outs = np.zeros([ncls])\n",
    "        #deltas = np.zeros([ncls])\n",
    "        for m in range(ncls):\n",
    "            outs[m] = np.tanh(gf*currents[m])\n",
    "            #deltas[m] = np.abs(yit[m] - outs[m])\n",
    "            if np.sign(outs[m]) != np.sign(yit[m]): # active error-case\n",
    "                if np.sign(outs[m]) == 1: #HL case > decr pair weights\n",
    "                    for n in range(nfts):\n",
    "                        if np.sign(xit[n]) == 1:\n",
    "                            error[2*n,m] = -1\n",
    "                            error[2*n+1,m] = 1\n",
    "                        else:\n",
    "                            error[2*n,m] = 1\n",
    "                            error[2*n+1,m] = -1\n",
    "                    error[2*nfts] = -1\n",
    "                    error[2*nfts+1] = 1\n",
    "                else: # LH case > incr pair weights\n",
    "                    for n in range(nfts):\n",
    "                        if np.sign(xit[n]) == 1:\n",
    "                            error[2*n,m] = 1\n",
    "                            error[2*n+1,m] = -1\n",
    "                        else:\n",
    "                            error[2*n,m] = -1\n",
    "                            error[2*n+1,m] = 1\n",
    "                    error[2*nfts] = 1\n",
    "                    error[2*nfts+1] = -1\n",
    "        G = gdummyv(G,g,nfts,ncls,error,memarray)\n",
    "    \n",
    "    \n",
    "    #Evaluate Model on Test Set after the epoch\n",
    "    correct = 0\n",
    "    conf_arr = np.zeros((ncls,ncls)) # row is label, col is act\n",
    "    nbtests = len(X_test[:,1])\n",
    "    for it in range(nbtests):\n",
    "        yit = -1*np.ones([3])\n",
    "        ind = y_test[it]\n",
    "        yit[ind] =1\n",
    "        xitsym = np.zeros([2*nfts+2])\n",
    "        xit = X_test[it,:]\n",
    "        for l in range(nfts):\n",
    "            xitsym[int(2*l)] = xit[l]\n",
    "            xitsym[int(2*l+1)] = -xit[l]\n",
    "        xitsym[int(2*nfts)] = 1\n",
    "        xitsym[int(2*nfts)+1] = -1\n",
    "        currents = np.dot(xitsym,G)\n",
    "        outs = np.zeros([ncls])\n",
    "        for m in range(ncls):\n",
    "            outs[m] = np.tanh(gf*currents[m])\n",
    "        max_index, max_value = max(enumerate(outs), key=operator.itemgetter(1))\n",
    "        conf_arr[ind][max_index] += 1\n",
    "        if max_index == ind:\n",
    "            correct += 1\n",
    "            \n",
    "    results[k] = (correct/nbtests)*100\n",
    "    \n",
    "        \n",
    "                    "
   ]
  },
  {
   "cell_type": "code",
   "execution_count": 9,
   "metadata": {
    "collapsed": false,
    "scrolled": true
   },
   "outputs": [
    {
     "data": {
      "image/png": "[encoded data removed]",
      "text/plain": [
       "<matplotlib.figure.Figure at 0x7fe6bfdb3c50>"
      ]
     },
     "metadata": {},
     "output_type": "display_data"
    }
   ],
   "source": [
    "xs = np.zeros(nbepochs)\n",
    "for x in range(len(results)):\n",
    "    xs[x] = x\n",
    "    \n",
    "plt.plot(xs,results)\n",
    "plt.show()"
   ]
  },
  {
   "cell_type": "code",
   "execution_count": 10,
   "metadata": {
    "collapsed": false
   },
   "outputs": [
    {
     "data": {
      "image/png": "[encoded data removed]",
      "text/plain": [
       "<matplotlib.figure.Figure at 0x7fe6bdd03850>"
      ]
     },
     "metadata": {},
     "output_type": "display_data"
    }
   ],
   "source": [
    "plt.imshow(conf_arr, cmap=plt.cm.jet, interpolation='nearest',aspect='auto')\n",
    "plt.colorbar()\n",
    "plt.show()"
   ]
  },
  {
   "cell_type": "code",
   "execution_count": 11,
   "metadata": {
    "collapsed": false
   },
   "outputs": [
    {
     "data": {
      "image/png": "[encoded data removed]",
      "text/plain": [
       "<matplotlib.figure.Figure at 0x7fe6bdd03c10>"
      ]
     },
     "metadata": {},
     "output_type": "display_data"
    }
   ],
   "source": [
    "plt.hist(G)\n",
    "plt.show()"
   ]
  },
  {
   "cell_type": "code",
   "execution_count": 12,
   "metadata": {
    "collapsed": false
   },
   "outputs": [
    {
     "data": {
      "image/png": "[encoded data removed]",
      "text/plain": [
       "<matplotlib.figure.Figure at 0x7fe6bd9aa310>"
      ]
     },
     "metadata": {},
     "output_type": "display_data"
    }
   ],
   "source": [
    "Gflat = np.ndarray.flatten(G)\n",
    "plt.hist(Gflat)\n",
    "plt.show()"
   ]
  },
  {
   "cell_type": "code",
   "execution_count": 13,
   "metadata": {
    "collapsed": false
   },
   "outputs": [
    {
     "data": {
      "image/png": "[encoded data removed]",
      "text/plain": [
       "<matplotlib.figure.Figure at 0x7fe6bd8a61d0>"
      ]
     },
     "metadata": {},
     "output_type": "display_data"
    }
   ],
   "source": [
    "plt.imshow(G)\n",
    "plt.colorbar()\n",
    "plt.show()"
   ]
  }
 ],
 "metadata": {
  "kernelspec": {
   "display_name": "Python 2",
   "language": "python",
   "name": "python2"
  },
  "language_info": {
   "codemirror_mode": {
    "name": "ipython",
    "version": 2
   },
   "file_extension": ".py",
   "mimetype": "text/x-python",
   "name": "python",
   "nbconvert_exporter": "python",
   "pygments_lexer": "ipython2",
   "version": "2.7.12"
  }
 },
 "nbformat": 4,
 "nbformat_minor": 0
}
